{
  "cells": [
    {
      "cell_type": "code",
      "execution_count": 4,
      "metadata": {
        "id": "SHrnhAbUy-ZY"
      },
      "outputs": [],
      "source": [
        "\n",
        "import numpy as np\n",
        "import scipy.stats as st\n",
        "from datascience import *\n",
        "import matplotlib.pyplot as plots\n",
        "plots.style.use('fivethirtyeight')\n",
        "%matplotlib inline\n"
      ]
    },
    {
      "cell_type": "markdown",
      "metadata": {
        "id": "-Uzk0LioK2M8"
      },
      "source": [
        "# Part A"
      ]
    },
    {
      "cell_type": "markdown",
      "metadata": {
        "id": "nvul1NPaLv9W"
      },
      "source": [
        "Null Hypothesis: Analysis is correct, ratio of flowers = 3:1\n"
      ]
    },
    {
      "cell_type": "markdown",
      "metadata": {
        "id": "6KWHbdBKMud6"
      },
      "source": [
        "Alternate Hypothesis: Analysis is incorrect, ratio of flowers != 3:1"
      ]
    },
    {
      "cell_type": "markdown",
      "metadata": {
        "id": "1cNNp2B0OxZy"
      },
      "source": [
        "2. Z-test can be used, since size of sample is greater than 30"
      ]
    },
    {
      "cell_type": "markdown",
      "metadata": {
        "id": "RIx7FVCLPGDY"
      },
      "source": [
        "3. Observed Statistics: There are 741 purple flowering plants out of 929 plants => 79.76%"
      ]
    },
    {
      "cell_type": "code",
      "execution_count": 5,
      "metadata": {
        "colab": {
          "base_uri": "https://localhost:8080/"
        },
        "id": "1tC_qGNtK6Kr",
        "outputId": "986e3480-6bb6-498b-f4e3-c1f8e201c9a3"
      },
      "outputs": [
        {
          "output_type": "execute_result",
          "data": {
            "text/plain": [
              "4.763186221743808"
            ]
          },
          "metadata": {},
          "execution_count": 5
        }
      ],
      "source": [
        "#3\n",
        "observed_statistic = abs ( 100 * (741 / 929) - 75)\n",
        "observed_statistic"
      ]
    },
    {
      "cell_type": "code",
      "execution_count": 6,
      "metadata": {
        "id": "S2bzLDa2QYXK"
      },
      "outputs": [],
      "source": [
        "#4\n",
        "\n",
        "mendel_proportions = make_array(0.75, 0.25)\n",
        "mendel_proportion_purple = mendel_proportions.item(0)\n",
        "sample_size = 929"
      ]
    },
    {
      "cell_type": "code",
      "execution_count": 7,
      "metadata": {
        "id": "Lc3fI9w4TyTw"
      },
      "outputs": [],
      "source": [
        "def one_simulated_distance():\n",
        "    sample_proportion_purple = sample_proportions(929, mendel_proportions).item(0)\n",
        "    return 100 * abs(sample_proportion_purple - mendel_proportion_purple)"
      ]
    },
    {
      "cell_type": "code",
      "execution_count": 8,
      "metadata": {
        "id": "ntamOeClT1jF"
      },
      "outputs": [],
      "source": [
        "repetitions = 2000-236\n",
        "distances = make_array()\n",
        "for i in np.arange(repetitions):\n",
        "    distances = np.append(distances, one_simulated_distance())"
      ]
    },
    {
      "cell_type": "code",
      "execution_count": 9,
      "metadata": {
        "colab": {
          "base_uri": "https://localhost:8080/",
          "height": 298
        },
        "id": "HrFCntw-UBuE",
        "outputId": "5b0bedc2-9c79-4686-fe48-fa536ad63f31"
      },
      "outputs": [
        {
          "output_type": "display_data",
          "data": {
            "text/plain": [
              "<Figure size 432x288 with 1 Axes>"
            ],
            "image/png": "[encoded data removed]"
          },
          "metadata": {
            "needs_background": "light"
          }
        }
      ],
      "source": [
        "Table().with_column('Distance between Sample % and 75%', distances).hist()\n",
        "plots.title('Prediction Made by the Null Hypothesis')\n",
        "plots.scatter(observed_statistic, 0, color='red', s=40);"
      ]
    },
    {
      "cell_type": "markdown",
      "metadata": {
        "id": "UueCVLu6K7iP"
      },
      "source": [
        "# Part B"
      ]
    },
    {
      "cell_type": "code",
      "execution_count": 10,
      "metadata": {
        "id": "FS9OKnvuK-D5"
      },
      "outputs": [],
      "source": [
        "#H0 : μ = 60 and Ha : μ != 60\n",
        "n = 30\n",
        "xbar = 65.10\n",
        "mu = 60\n",
        "sigma = 13.46\n",
        "alpha = 0.05"
      ]
    },
    {
      "cell_type": "code",
      "execution_count": 11,
      "metadata": {
        "colab": {
          "base_uri": "https://localhost:8080/"
        },
        "id": "73NSV2oNLcPP",
        "outputId": "cbaea4e8-aabb-4444-cc89-bd6676bb85b0"
      },
      "outputs": [
        {
          "output_type": "execute_result",
          "data": {
            "text/plain": [
              "2.0753232119437919"
            ]
          },
          "metadata": {},
          "execution_count": 11
        }
      ],
      "source": [
        "z = (xbar-mu)/(sigma/np.sqrt(n))\n",
        "z"
      ]
    },
    {
      "cell_type": "code",
      "execution_count": 12,
      "metadata": {
        "colab": {
          "base_uri": "https://localhost:8080/"
        },
        "id": "Yavf7bEFLenM",
        "outputId": "5c337248-3e6b-4a2e-b948-ae1c59fdc122"
      },
      "outputs": [
        {
          "output_type": "execute_result",
          "data": {
            "text/plain": [
              "0.037956589569906329"
            ]
          },
          "metadata": {},
          "execution_count": 12
        }
      ],
      "source": [
        "p_val = (1 - st.norm.cdf(abs(z))) * 2\n",
        "p_val"
      ]
    },
    {
      "cell_type": "code",
      "execution_count": 13,
      "metadata": {
        "colab": {
          "base_uri": "https://localhost:8080/"
        },
        "id": "C1Zx5dcJLhMO",
        "outputId": "d076a2cf-568f-4599-df2c-e46e35aee4c0"
      },
      "outputs": [
        {
          "output_type": "stream",
          "name": "stdout",
          "text": [
            "Reject null hypothesis\n"
          ]
        }
      ],
      "source": [
        "if (p_val > alpha):\n",
        "    print(\"Null hypothesis cannot be rejected\")\n",
        "else:\n",
        "    print(\"Reject null hypothesis\")"
      ]
    }
  ],
  "metadata": {
    "colab": {
      "provenance": []
    },
    "kernelspec": {
      "display_name": "Python 3",
      "name": "python3"
    },
    "language_info": {
      "name": "python"
    }
  },
  "nbformat": 4,
  "nbformat_minor": 0
}