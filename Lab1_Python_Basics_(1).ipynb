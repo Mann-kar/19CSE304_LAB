{
  "cells": [
    {
      "cell_type": "code",
      "execution_count": 1,
      "metadata": {
        "colab": {
          "base_uri": "https://localhost:8080/"
        },
        "id": "lRYwXcG4DSW9",
        "outputId": "bc559854-3ea0-47a4-dc71-c9d0342b4792"
      },
      "outputs": [
        {
          "output_type": "stream",
          "name": "stdout",
          "text": [
            "Hello World...!\n"
          ]
        }
      ],
      "source": [
        "print(\"Hello World...!\") "
      ]
    },
    {
      "cell_type": "code",
      "execution_count": 2,
      "metadata": {
        "colab": {
          "base_uri": "https://localhost:8080/"
        },
        "id": "ehBqdxyEDSXC",
        "outputId": "bb8a9731-0515-4252-e2e5-ecbae9f5da77"
      },
      "outputs": [
        {
          "output_type": "execute_result",
          "data": {
            "text/plain": [
              "15"
            ]
          },
          "metadata": {},
          "execution_count": 2
        }
      ],
      "source": [
        "5+10"
      ]
    },
    {
      "cell_type": "code",
      "execution_count": 3,
      "metadata": {
        "colab": {
          "base_uri": "https://localhost:8080/"
        },
        "id": "INPglwx5DSXD",
        "outputId": "c23bbf7e-7f0d-4739-f650-a32b5637ba67"
      },
      "outputs": [
        {
          "output_type": "stream",
          "name": "stdout",
          "text": [
            "[1, 2, 3, 4, 5]\n",
            "3\n",
            "[3, 4]\n"
          ]
        },
        {
          "output_type": "execute_result",
          "data": {
            "text/plain": [
              "5"
            ]
          },
          "metadata": {},
          "execution_count": 3
        }
      ],
      "source": [
        "numbers=[1,2,3,4,5]\n",
        "print(numbers)\n",
        "print(numbers[2])\n",
        "print(numbers[2:4]) \n",
        "numbers[-1]"
      ]
    },
    {
      "cell_type": "code",
      "execution_count": 4,
      "metadata": {
        "id": "z4FQrA4DDSXE"
      },
      "outputs": [],
      "source": [
        "import math\n",
        "import random\n",
        "import math as m\n",
        "from math import *"
      ]
    },
    {
      "cell_type": "code",
      "execution_count": 5,
      "metadata": {
        "colab": {
          "base_uri": "https://localhost:8080/"
        },
        "id": "cZq4fo7tDSXF",
        "outputId": "9440c6ad-fd8d-49b8-dae9-e92a7259f3f1"
      },
      "outputs": [
        {
          "output_type": "execute_result",
          "data": {
            "text/plain": [
              "3.0"
            ]
          },
          "metadata": {},
          "execution_count": 5
        }
      ],
      "source": [
        "math.sqrt(9)"
      ]
    },
    {
      "cell_type": "code",
      "execution_count": 6,
      "metadata": {
        "colab": {
          "base_uri": "https://localhost:8080/"
        },
        "id": "9qhSgxnTDSXF",
        "outputId": "799db4cc-c2a6-43a3-d8f4-00605b90f309"
      },
      "outputs": [
        {
          "output_type": "stream",
          "name": "stdout",
          "text": [
            "3.0\n",
            "3.141592653589793\n",
            "8.0\n",
            "10\n",
            "5\n",
            "1\n",
            "-0.3048106211022167\n",
            "2.718281828459045\n",
            "1.3862943611198906\n",
            "2.0\n",
            "23.46\n",
            "0.4983956397153616\n"
          ]
        }
      ],
      "source": [
        "print(math.sqrt(9))\n",
        "print(math.pi)\n",
        "print(math.pow(2,3))\n",
        "print(abs(-10))\n",
        "print(max(1,2,3,4,5))\n",
        "print(min(1,2,3,4,5))\n",
        "print(math.sin(60))\n",
        "print(math.e)\n",
        "print(math.log(4))\n",
        "print(math.log10(100))\n",
        "print(round(23.45678,2))\n",
        "print(random.random())"
      ]
    },
    {
      "cell_type": "code",
      "execution_count": 7,
      "metadata": {
        "colab": {
          "base_uri": "https://localhost:8080/"
        },
        "id": "H6DRnmRiDSXG",
        "outputId": "d565fca5-b94b-4d79-8bd8-dafc1c4d6e2d"
      },
      "outputs": [
        {
          "output_type": "stream",
          "name": "stdout",
          "text": [
            "0.02792924067574032\n"
          ]
        }
      ],
      "source": [
        "print(random.random())"
      ]
    },
    {
      "cell_type": "code",
      "execution_count": 8,
      "metadata": {
        "colab": {
          "base_uri": "https://localhost:8080/"
        },
        "id": "qMqEVPpeDSXG",
        "outputId": "e698595e-e445-44f7-9b9b-cf8b24d79e26"
      },
      "outputs": [
        {
          "output_type": "stream",
          "name": "stdout",
          "text": [
            "4\n"
          ]
        }
      ],
      "source": [
        "nums=[1,2,3,4,5]\n",
        "print(random.choice(nums))"
      ]
    },
    {
      "cell_type": "code",
      "execution_count": 9,
      "metadata": {
        "colab": {
          "base_uri": "https://localhost:8080/"
        },
        "id": "ogbIVk26DSXH",
        "outputId": "fdf1ef67-eafe-4a08-c7ec-836a471caa93"
      },
      "outputs": [
        {
          "output_type": "stream",
          "name": "stdout",
          "text": [
            "[2, 5, 3, 1, 4]\n"
          ]
        }
      ],
      "source": [
        "random.shuffle(nums)\n",
        "print(nums)"
      ]
    },
    {
      "cell_type": "code",
      "execution_count": 10,
      "metadata": {
        "colab": {
          "base_uri": "https://localhost:8080/"
        },
        "id": "X-NTpyVMDSXI",
        "outputId": "9ea9ef62-cd27-41fe-9381-fd6c4a9f9075"
      },
      "outputs": [
        {
          "output_type": "stream",
          "name": "stdout",
          "text": [
            "63\n"
          ]
        }
      ],
      "source": [
        "print(random.randrange(1,100,1))"
      ]
    },
    {
      "cell_type": "code",
      "execution_count": 11,
      "metadata": {
        "colab": {
          "base_uri": "https://localhost:8080/"
        },
        "id": "_LziJEzkDSXI",
        "outputId": "103ea98e-4d7d-4c3d-be17-18a54b59bec7"
      },
      "outputs": [
        {
          "output_type": "stream",
          "name": "stdout",
          "text": [
            "Enter a number: 5\n",
            "5 is a prime number\n"
          ]
        }
      ],
      "source": [
        "import math\n",
        "num = int(input(\"Enter a number: \"))\n",
        "if num > 1:\n",
        "   for i in range(2,(num//2)+1):\n",
        "       if (num % i) == 0:\n",
        "           print(num,\"is not a prime number\")\n",
        "           break\n",
        "   else:\n",
        "       print(num,\"is a prime number\")\n",
        "       \n",
        "else:\n",
        "   print(num,\"is not a prime number\")"
      ]
    },
    {
      "cell_type": "code",
      "execution_count": 12,
      "metadata": {
        "colab": {
          "base_uri": "https://localhost:8080/"
        },
        "id": "17tRvPC8DSXJ",
        "outputId": "4a3afe4a-b183-4d88-d379-a1b3a5daa321"
      },
      "outputs": [
        {
          "output_type": "stream",
          "name": "stdout",
          "text": [
            "2\n",
            "2.5\n"
          ]
        },
        {
          "output_type": "execute_result",
          "data": {
            "text/plain": [
              "int"
            ]
          },
          "metadata": {},
          "execution_count": 12
        }
      ],
      "source": [
        "num =5\n",
        "print(num//2)\n",
        "print(num/2)\n",
        "type(num//2)"
      ]
    },
    {
      "cell_type": "code",
      "execution_count": 13,
      "metadata": {
        "colab": {
          "base_uri": "https://localhost:8080/"
        },
        "id": "hLCoQ6NvDSXJ",
        "outputId": "23891c39-7446-4bb8-c9f2-6b071f817cf9"
      },
      "outputs": [
        {
          "output_type": "stream",
          "name": "stdout",
          "text": [
            "10 male MTech 6.2 20 50 10\n"
          ]
        }
      ],
      "source": [
        "age=10\n",
        "gender='male'\n",
        "section='MTech'\n",
        "height=6.2\n",
        "Gender=20\n",
        "AGE=50\n",
        "_=10\n",
        "print(age,gender,section,height,Gender,AGE,_)"
      ]
    },
    {
      "cell_type": "code",
      "execution_count": 14,
      "metadata": {
        "colab": {
          "base_uri": "https://localhost:8080/"
        },
        "id": "Ym3AuFZ2DSXK",
        "outputId": "4a9dc282-1f48-4dbc-bf46-0b7e991d9f51"
      },
      "outputs": [
        {
          "output_type": "stream",
          "name": "stdout",
          "text": [
            "1 2.5 kiran\n"
          ]
        }
      ],
      "source": [
        "x,y,z=1,2.5,\"kiran\"\n",
        "print(x,y,z)"
      ]
    },
    {
      "cell_type": "code",
      "execution_count": 15,
      "metadata": {
        "colab": {
          "base_uri": "https://localhost:8080/",
          "height": 235
        },
        "id": "QpaPCNqbDSXK",
        "outputId": "fd13bec7-32f1-41ad-fa01-bc6486b10be6"
      },
      "outputs": [
        {
          "output_type": "stream",
          "name": "stdout",
          "text": [
            "*****Creating and deleting object references*******\n",
            "10\n"
          ]
        },
        {
          "output_type": "error",
          "ename": "NameError",
          "evalue": "ignored",
          "traceback": [
            "\u001b[0;31m---------------------------------------------------------------------------\u001b[0m",
            "\u001b[0;31mNameError\u001b[0m                                 Traceback (most recent call last)",
            "\u001b[0;32m<ipython-input-15-f72d7a4d0aca>\u001b[0m in \u001b[0;36m<module>\u001b[0;34m\u001b[0m\n\u001b[1;32m      3\u001b[0m \u001b[0mprint\u001b[0m\u001b[0;34m(\u001b[0m\u001b[0mvar\u001b[0m\u001b[0;34m)\u001b[0m\u001b[0;34m\u001b[0m\u001b[0;34m\u001b[0m\u001b[0m\n\u001b[1;32m      4\u001b[0m \u001b[0;32mdel\u001b[0m \u001b[0mvar\u001b[0m\u001b[0;34m\u001b[0m\u001b[0;34m\u001b[0m\u001b[0m\n\u001b[0;32m----> 5\u001b[0;31m \u001b[0mprint\u001b[0m\u001b[0;34m(\u001b[0m\u001b[0mvar\u001b[0m\u001b[0;34m)\u001b[0m\u001b[0;34m\u001b[0m\u001b[0;34m\u001b[0m\u001b[0m\n\u001b[0m",
            "\u001b[0;31mNameError\u001b[0m: name 'var' is not defined"
          ]
        }
      ],
      "source": [
        "print(\"*****Creating and deleting object references*******\")\n",
        "var=10\n",
        "print(var)\n",
        "del var \n",
        "print(var)"
      ]
    },
    {
      "cell_type": "code",
      "execution_count": 16,
      "metadata": {
        "colab": {
          "base_uri": "https://localhost:8080/"
        },
        "id": "u3t1dZdADSXL",
        "outputId": "15aea1fb-912f-4d02-e20c-773914ca28d4"
      },
      "outputs": [
        {
          "output_type": "stream",
          "name": "stdout",
          "text": [
            "******Experiment on String type*******\n",
            "Hello World..!\n",
            "H\n",
            "llo\n",
            "llo World..!\n",
            "Hello World..!Hello World..!\n",
            "Hello World..!TEST\n"
          ]
        }
      ],
      "source": [
        "print(\"******Experiment on String type*******\")\n",
        "str = 'Hello World..!'\n",
        "print(str)          \n",
        "print(str[0])       \n",
        "print(str[2:5])     \n",
        "print(str[2:])      \n",
        "print(str * 2)      \n",
        "print(str + \"TEST\") "
      ]
    },
    {
      "cell_type": "code",
      "execution_count": 17,
      "metadata": {
        "colab": {
          "base_uri": "https://localhost:8080/"
        },
        "id": "WccTMduMDSXL",
        "outputId": "592d6d77-34b1-4d47-a1ed-e264858cb14a"
      },
      "outputs": [
        {
          "output_type": "stream",
          "name": "stdout",
          "text": [
            "******Python List type**********\n",
            "['abcd', 786, 2.23, 'john', 70.2]\n",
            "abcd\n",
            "[786, 2.23]\n",
            "[2.23, 'john', 70.2]\n",
            "[123, 'john', 123, 'john']\n",
            "['abcd', 786, 2.23, 'john', 70.2, 123, 'john']\n"
          ]
        }
      ],
      "source": [
        "print(\"******Python List type**********\")\n",
        "list = [ 'abcd', 786 , 2.23, 'john', 70.2 ]\n",
        "tinylist = [123, 'john']\n",
        "\n",
        "print(list)          \n",
        "print(list[0])       \n",
        "print(list[1:3])     \n",
        "print(list[2:])      \n",
        "print(tinylist * 2)  \n",
        "print(list + tinylist) "
      ]
    },
    {
      "cell_type": "code",
      "execution_count": 18,
      "metadata": {
        "colab": {
          "base_uri": "https://localhost:8080/"
        },
        "id": "d4tpFJIADSXL",
        "outputId": "a562b70f-fa7e-43cc-c1cd-8bd3a0021423"
      },
      "outputs": [
        {
          "output_type": "stream",
          "name": "stdout",
          "text": [
            "******Python Tuple type**********\n",
            "('abcd', 786, 2.23, 'john', 70.2)\n",
            "abcd\n",
            "(786, 2.23)\n",
            "(2.23, 'john', 70.2)\n",
            "(123, 'john', 123, 'john')\n",
            "('abcd', 786, 2.23, 'john', 70.2, 123, 'john')\n"
          ]
        }
      ],
      "source": [
        "print(\"******Python Tuple type**********\")\n",
        "tuple = ( 'abcd', 786 , 2.23, 'john', 70.2  )\n",
        "tinytuple = (123, 'john')\n",
        "\n",
        "print(tuple)         \n",
        "print(tuple[0])        \n",
        "print(tuple[1:3])      \n",
        "\n",
        "print(tuple[2:])       \n",
        "print(tinytuple * 2)   \n",
        "print(tuple + tinytuple) "
      ]
    },
    {
      "cell_type": "code",
      "execution_count": 19,
      "metadata": {
        "colab": {
          "base_uri": "https://localhost:8080/"
        },
        "id": "ghsqk-cTDSXM",
        "outputId": "7235ddbb-8f40-450d-8ca7-79a47cfb4be8"
      },
      "outputs": [
        {
          "output_type": "stream",
          "name": "stdout",
          "text": [
            "list is  ['abcd', 786, 1000, 'john', 70.2]\n",
            "tuple is ('abcd', 786, 2.23, 'john', 70.2)\n"
          ]
        }
      ],
      "source": [
        "list[2] = 1000     \n",
        "print(\"list is \",list)\n",
        "print(\"tuple is\",tuple)"
      ]
    },
    {
      "cell_type": "code",
      "execution_count": 20,
      "metadata": {
        "colab": {
          "base_uri": "https://localhost:8080/"
        },
        "id": "DOp3QAD_DSXM",
        "outputId": "a151e284-ea16-4477-e940-2bf9ea6005b3"
      },
      "outputs": [
        {
          "output_type": "stream",
          "name": "stdout",
          "text": [
            "******Python Dictionary Type**********\n",
            "{'name': 'john', 'code': 6734, 'dept': 'sales'}\n",
            "dict_keys(['name', 'code', 'dept'])\n",
            "dict_values(['john', 6734, 'sales'])\n"
          ]
        }
      ],
      "source": [
        "print(\"******Python Dictionary Type**********\")\n",
        "\"\"\"\n",
        "Dictionaries are enclosed by curly braces ({ }) and values can be \n",
        "assigned and accessed using square braces ([]).\n",
        "\"\"\"\n",
        "dict = {}\n",
        "tinydict = {'name': 'john','code':6734, 'dept': 'sales'}\n",
        "\n",
        "print(tinydict)         \n",
        "print(tinydict.keys()) \n",
        "print(tinydict.values()) "
      ]
    }
  ],
  "metadata": {
    "kernelspec": {
      "display_name": "Python 3",
      "language": "python",
      "name": "python3"
    },
    "language_info": {
      "codemirror_mode": {
        "name": "ipython",
        "version": 3
      },
      "file_extension": ".py",
      "mimetype": "text/x-python",
      "name": "python",
      "nbconvert_exporter": "python",
      "pygments_lexer": "ipython3",
      "version": "3.7.6"
    },
    "colab": {
      "provenance": []
    }
  },
  "nbformat": 4,
  "nbformat_minor": 0
}